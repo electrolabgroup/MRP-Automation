{
 "cells": [
  {
   "cell_type": "code",
   "execution_count": null,
   "id": "d7c771c1-eb1e-4b4a-96c8-3642348cb439",
   "metadata": {},
   "outputs": [],
   "source": [
    "#Api Get Method - Stock Ledger Entry - Mahape\n",
    "import requests\n",
    "import pandas as pd\n",
    "import time \n",
    "start_time = time.time()\n",
    "\n",
    "base_url = 'https://erpv14.electrolabgroup.com/'\n",
    "endpoint = 'api/resource/Stock Ledger Entry'\n",
    "url = base_url + endpoint\n",
    "\n",
    "params = {\n",
    "    'fields': '[\"item_code\",\"warehouse\",\"qty_after_transaction\",\"posting_datetime\"]',\n",
    "    'limit_start': 0, \n",
    "    'limit_page_length': 1000000000000000,\n",
    "    'filters': '[[\"warehouse\", \"=\", \"Mahape - EIPL\"]]'\n",
    "}\n",
    "\n",
    "headers = {\n",
    "    'Authorization': 'token 3ee8d03949516d0:6baa361266cf807'\n",
    "}\n",
    "response = requests.get(url, params=params, headers=headers)\n",
    "\n",
    "if response.status_code == 200:\n",
    "    data = response.json()\n",
    "    print(\"Fields are correct.\")\n",
    "    mahape_ledger = pd.DataFrame(data['data'])\n",
    "else:\n",
    "    print(f\"Failed to fetch data. Status code: {response.status_code}\")\n",
    "    print(\"Response:\", response.json())\n"
   ]
  },
  {
   "cell_type": "code",
   "execution_count": null,
   "id": "b770fec2-5c37-468c-8ad4-770b83d6678a",
   "metadata": {},
   "outputs": [],
   "source": [
    "mahape_ledger.head()"
   ]
  },
  {
   "cell_type": "code",
   "execution_count": null,
   "id": "d0a7c005-84c9-4ca0-98b7-634a5f48e262",
   "metadata": {},
   "outputs": [],
   "source": [
    "mahape_ledger_sorted = mahape_ledger.sort_values(by='posting_datetime', ascending = False)\n",
    "\n",
    "mahape_ledger_unique = mahape_ledger_sorted.drop_duplicates(subset='item_code', keep='first')\n",
    "mahape_ledger_unique.head()"
   ]
  },
  {
   "cell_type": "code",
   "execution_count": null,
   "id": "7d645e6d-b0e3-45ec-b79c-a5ad5af41222",
   "metadata": {},
   "outputs": [],
   "source": [
    "#Api Get Method - Mahape Item  -  1 \n",
    "import requests\n",
    "import pandas as pd\n",
    "import time \n",
    "start_time = time.time()\n",
    "\n",
    "base_url = 'https://erpv14.electrolabgroup.com/'\n",
    "endpoint = 'api/resource/Item'\n",
    "url = base_url + endpoint\n",
    "\n",
    "params = {\n",
    "    'fields': '[\"item_name\",\"item_code\",\"item_defaults.default_warehouse\"]',\n",
    "    'limit_start': 0, \n",
    "    'limit_page_length': 10000000000000,\n",
    "    'filters': '[[\"disabled\", \"=\", \"No\"], [\"item_name\", \"not like\", \"%unprocessed%\"]]'\n",
    "}\n",
    "\n",
    "headers = {\n",
    "    'Authorization': 'token 3ee8d03949516d0:6baa361266cf807'\n",
    "}\n",
    "response = requests.get(url, params=params, headers=headers)\n",
    "\n",
    "if response.status_code == 200:\n",
    "    data = response.json()\n",
    "    print(\"Fields are correct.\")\n",
    "    mahape_item_df = pd.DataFrame(data['data'])\n",
    "    mahape_item_df = mahape_item_df[mahape_item_df['default_warehouse'] == 'Mahape - EIPL']\n",
    "else:\n",
    "    print(f\"Failed to fetch data. Status code: {response.status_code}\")\n",
    "    print(\"Response:\", response.json())\n"
   ]
  },
  {
   "cell_type": "code",
   "execution_count": null,
   "id": "e39b8e47-6dfd-4a69-b476-59e3569a51f2",
   "metadata": {},
   "outputs": [],
   "source": [
    "mahape_item_df.head()"
   ]
  },
  {
   "cell_type": "code",
   "execution_count": null,
   "id": "a983285c-66ff-4f45-b74f-6b2ea349e3f7",
   "metadata": {},
   "outputs": [],
   "source": [
    "mahape = pd.merge(mahape_item_df,mahape_ledger_unique , on='item_code', how='outer')\n",
    "mahape.rename(columns={'qty_after_transaction': 'Mahape Quantity'}, inplace=True)\n",
    "mahape"
   ]
  },
  {
   "cell_type": "code",
   "execution_count": null,
   "id": "70905877-666b-4c6f-89fd-7d2b706a3e56",
   "metadata": {},
   "outputs": [],
   "source": [
    "##-----------------------------------  Quality Control\n"
   ]
  },
  {
   "cell_type": "code",
   "execution_count": null,
   "id": "02219c3b-1ca5-49db-81da-2f7a87c63d57",
   "metadata": {},
   "outputs": [],
   "source": [
    "#Api Get Method - Stock Ledger Entry - Quality Control\n",
    "import requests\n",
    "import pandas as pd\n",
    "import time \n",
    "start_time = time.time()\n",
    "\n",
    "base_url = 'https://erpv14.electrolabgroup.com/'\n",
    "endpoint = 'api/resource/Stock Ledger Entry'\n",
    "url = base_url + endpoint\n",
    "\n",
    "params = {\n",
    "    'fields': '[\"item_code\",\"warehouse\",\"qty_after_transaction\",\"posting_datetime\"]',\n",
    "    'limit_start': 0, \n",
    "    'limit_page_length': 1000000000000000,\n",
    "    'filters': '[[\"warehouse\", \"=\", \"Quality Control - EIPL\"]]'\n",
    "}\n",
    "\n",
    "headers = {\n",
    "    'Authorization': 'token 3ee8d03949516d0:6baa361266cf807'\n",
    "}\n",
    "response = requests.get(url, params=params, headers=headers)\n",
    "\n",
    "if response.status_code == 200:\n",
    "    data = response.json()\n",
    "    print(\"Fields are correct.\")\n",
    "    qc_ledger = pd.DataFrame(data['data'])\n",
    "else:\n",
    "    print(f\"Failed to fetch data. Status code: {response.status_code}\")\n",
    "    print(\"Response:\", response.json())\n"
   ]
  },
  {
   "cell_type": "code",
   "execution_count": null,
   "id": "31865a30-0999-45db-9366-605b27a92263",
   "metadata": {},
   "outputs": [],
   "source": [
    "qc_ledger.head()"
   ]
  },
  {
   "cell_type": "code",
   "execution_count": null,
   "id": "7d0f0c5b-7e91-4d00-9f8e-13b65885ae0f",
   "metadata": {},
   "outputs": [],
   "source": [
    "qc_ledger_sorted = qc_ledger.sort_values(by='posting_datetime', ascending = False)\n",
    "\n",
    "qc_ledger_unique = qc_ledger_sorted.drop_duplicates(subset='item_code', keep='first')\n",
    "qc_ledger_unique.head()"
   ]
  },
  {
   "cell_type": "code",
   "execution_count": null,
   "id": "580da8c0-de83-4757-ae5d-bf598e72b2f5",
   "metadata": {},
   "outputs": [],
   "source": [
    "#Api Get Method - Quality Control - 2\n",
    "import requests\n",
    "import pandas as pd\n",
    "import time \n",
    "start_time = time.time()\n",
    "\n",
    "base_url = 'https://erpv14.electrolabgroup.com/'\n",
    "endpoint = 'api/resource/Item'\n",
    "url = base_url + endpoint\n",
    "\n",
    "params = {\n",
    "    'fields': '[\"item_name\",\"item_code\",\"item_defaults.default_warehouse\"]',\n",
    "    'limit_start': 0, \n",
    "    'limit_page_length': 10000000000000,\n",
    "    'filters': '[[\"disabled\", \"=\", \"No\"]]'\n",
    "}\n",
    "\n",
    "headers = {\n",
    "    'Authorization': 'token 3ee8d03949516d0:6baa361266cf807'\n",
    "}\n",
    "response = requests.get(url, params=params, headers=headers)\n",
    "\n",
    "if response.status_code == 200:\n",
    "    data = response.json()\n",
    "    print(\"Fields are correct.\")\n",
    "    qc_item_df = pd.DataFrame(data['data'])\n",
    "    qc_item_df = qc_item_df[qc_item_df['default_warehouse'] == 'Quality Control - EIPL']\n",
    "else:\n",
    "    print(f\"Failed to fetch data. Status code: {response.status_code}\")\n",
    "    print(\"Response:\", response.json())\n"
   ]
  },
  {
   "cell_type": "code",
   "execution_count": null,
   "id": "e364d4ed-ad06-4613-91fa-30f246266d95",
   "metadata": {},
   "outputs": [],
   "source": [
    "qc_item_df"
   ]
  },
  {
   "cell_type": "code",
   "execution_count": null,
   "id": "ee0648fb-be4f-48c7-b748-2939910e97d8",
   "metadata": {},
   "outputs": [],
   "source": [
    "quality_control = pd.merge(qc_item_df,qc_ledger_unique , on='item_code', how='right')\n",
    "quality_control.rename(columns={'qty_after_transaction': 'QualityControl Quantity'}, inplace=True)\n",
    "quality_control"
   ]
  },
  {
   "cell_type": "code",
   "execution_count": null,
   "id": "6a1e4446-e723-4af2-8e3e-ffd18f34a218",
   "metadata": {},
   "outputs": [],
   "source": [
    "merged_df = pd.merge(mahape,quality_control , on='item_code', how='outer')\n",
    "merged_df['Mahape Quantity'] = merged_df['Mahape Quantity'].fillna(0)\n",
    "merged_df['QualityControl Quantity'] = merged_df['QualityControl Quantity'].fillna(0)\n",
    "merged_df['Stock Mahape + QC'] = merged_df['Mahape Quantity'] + merged_df['QualityControl Quantity']\n",
    "\n",
    "merged_df.head()"
   ]
  },
  {
   "cell_type": "code",
   "execution_count": null,
   "id": "a9020401-dc04-41e4-81a8-d5ca65dbaee5",
   "metadata": {},
   "outputs": [],
   "source": [
    "merged_df = merged_df[['item_code', 'Mahape Quantity', 'QualityControl Quantity', 'Stock Mahape + QC']]\n",
    "merged_df"
   ]
  },
  {
   "cell_type": "code",
   "execution_count": null,
   "id": "d5b8af31-2895-4640-b5f5-3600eebeb52e",
   "metadata": {},
   "outputs": [],
   "source": [
    "########---------\n"
   ]
  },
  {
   "cell_type": "code",
   "execution_count": null,
   "id": "50f309bf-605d-4ab7-97e0-d4cd9c88db04",
   "metadata": {},
   "outputs": [],
   "source": [
    "#Api Get Method - purchase order -1\n",
    "import requests\n",
    "import pandas as pd\n",
    "import time \n",
    "start_time = time.time()\n",
    "\n",
    "base_url = 'https://erpv14.electrolabgroup.com/'\n",
    "endpoint = 'api/resource/Purchase Order'\n",
    "url = base_url + endpoint\n",
    "\n",
    "params = {\n",
    "    'fields': '[\"items.item_code\",\"items.qty\",\"items.received_qty\"]',\n",
    "    'limit_start': 0, \n",
    "    'limit_page_length': 1000000000000,\n",
    "    'filters': '[[\"status\", \"IN\", [\"To Receive and Bill\", \"To Receive\"]]]'\n",
    "}\n",
    "\n",
    "headers = {\n",
    "    'Authorization': 'token 3ee8d03949516d0:6baa361266cf807'\n",
    "}\n",
    "response = requests.get(url, params=params, headers=headers)\n",
    "\n",
    "if response.status_code == 200:\n",
    "    data = response.json()\n",
    "    print(\"Fields are correct.\")\n",
    "    rnb_df = pd.DataFrame(data['data'])\n",
    "else:\n",
    "    print(f\"Failed to fetch data. Status code: {response.status_code}\")\n",
    "    print(\"Response:\", response.json())\n"
   ]
  },
  {
   "cell_type": "code",
   "execution_count": null,
   "id": "c243fbe6-1b07-44c0-b97e-d18a9b9cfcf2",
   "metadata": {},
   "outputs": [],
   "source": [
    "rnb_df = rnb_df.groupby('item_code').sum()\n",
    "\n",
    "rnb_df.head()"
   ]
  },
  {
   "cell_type": "code",
   "execution_count": null,
   "id": "10caf4fa-e14b-48a9-a7c6-ccab9bd2de83",
   "metadata": {},
   "outputs": [],
   "source": [
    "rnb_df['Pending Qty'] = rnb_df['qty'] - rnb_df['received_qty']\n",
    "rnb_df.head()"
   ]
  },
  {
   "cell_type": "code",
   "execution_count": null,
   "id": "d3c497ce-a496-4f11-af2c-17c12f311d68",
   "metadata": {},
   "outputs": [],
   "source": [
    "rnb_df = rnb_df.reset_index()\n",
    "rnb_df = rnb_df[['item_code', 'Pending Qty']]\n",
    "rnb_df.head()"
   ]
  },
  {
   "cell_type": "code",
   "execution_count": null,
   "id": "313401b9-d1a4-4f04-b451-95f0fd88755a",
   "metadata": {},
   "outputs": [],
   "source": [
    "result_df = pd.merge(merged_df,rnb_df, on='item_code', how='outer')\n",
    "result_df.head()"
   ]
  },
  {
   "cell_type": "code",
   "execution_count": null,
   "id": "8791f1f8-ea73-4109-a6d1-dcf32e96d449",
   "metadata": {},
   "outputs": [],
   "source": [
    "result_df['Pending Qty'] = result_df['Pending Qty'].fillna(0)\n",
    "result_df"
   ]
  },
  {
   "cell_type": "code",
   "execution_count": null,
   "id": "5c566695-97ff-4479-b22b-c5892f00a7c4",
   "metadata": {},
   "outputs": [],
   "source": [
    "### Pending quantity from subcontracting order\n",
    "## Filter status: Partially Received and Material Transferred\n",
    "## Call here from subcontractiing order "
   ]
  },
  {
   "cell_type": "code",
   "execution_count": null,
   "id": "abea293f-b987-42a6-8289-5d273e265301",
   "metadata": {},
   "outputs": [],
   "source": [
    "#Api Get Method - Subcontracting Order\n",
    "import requests\n",
    "import pandas as pd\n",
    "import time \n",
    "base_url = 'https://erpv14.electrolabgroup.com/'\n",
    "endpoint = 'api/resource/Subcontracting Order'\n",
    "url = base_url + endpoint\n",
    "\n",
    "params = {\n",
    "    'fields': '[\"supplier_name\",\"items.item_code\",\"items.qty\",\"items.received_qty\"]',\n",
    "    'limit_start': 0, \n",
    "    'limit_page_length': 1000000000000000,\n",
    "    'filters': '[[\"status\", \"in\", [\"Partially Received\", \"Material Transferred\"]]]'\n",
    "}\n",
    "\n",
    "headers = {\n",
    "    'Authorization': 'token 3ee8d03949516d0:6baa361266cf807'\n",
    "}\n",
    "response = requests.get(url, params=params, headers=headers)\n",
    "\n",
    "if response.status_code == 200:\n",
    "    data = response.json()\n",
    "    print(\"Fields are correct.\")\n",
    "    so_df = pd.DataFrame(data['data'])\n",
    "else:\n",
    "    print(f\"Failed to fetch data. Status code: {response.status_code}\")\n",
    "    print(\"Response:\", response.json())\n"
   ]
  },
  {
   "cell_type": "code",
   "execution_count": null,
   "id": "7d61083d-6a5a-46c2-b8fd-30e3443a4161",
   "metadata": {},
   "outputs": [],
   "source": [
    "so_df['SO PENDING QTY'] = so_df['qty'] - so_df['received_qty']\n",
    "so_df"
   ]
  },
  {
   "cell_type": "code",
   "execution_count": null,
   "id": "d1d511b3-4590-4c83-a754-538c07c9c1ae",
   "metadata": {},
   "outputs": [],
   "source": [
    "import pandas as pd\n",
    "\n",
    "# Assuming so_df is already defined and contains the necessary columns\n",
    "so_df_grouped = so_df.groupby('item_code', as_index=False).agg({\n",
    "    'SO PENDING QTY': 'sum',\n",
    "    'supplier_name': ', '.join  \n",
    "})\n",
    "\n",
    "empty_row = pd.DataFrame([['', '']], columns=['item_code', 'supplier_name'])  # Adjust columns as necessary\n",
    "\n",
    "so_df_grouped = pd.concat([so_df_grouped, empty_row], ignore_index=True)\n",
    "\n",
    "so_df_grouped\n"
   ]
  },
  {
   "cell_type": "code",
   "execution_count": null,
   "id": "20795474-c1ab-46f8-88ec-62908f2b8d26",
   "metadata": {},
   "outputs": [],
   "source": [
    "# Create the dictionary with desired format\n",
    "so_df_grouped['Dictionary'] = so_df_grouped.apply(\n",
    "    lambda row: {f\"{supplier.strip()}\": row['SO PENDING QTY'] for supplier in row['supplier_name'].split(',')},\n",
    "    axis=1\n",
    ")\n",
    "\n",
    "# Display the updated DataFrame\n",
    "so_df_grouped\n"
   ]
  },
  {
   "cell_type": "code",
   "execution_count": null,
   "id": "55d412cf-623d-4524-9a30-0c48dfca5f89",
   "metadata": {},
   "outputs": [],
   "source": [
    "### Group by item_code annd sum pending quanity "
   ]
  },
  {
   "cell_type": "code",
   "execution_count": null,
   "id": "04846bae-e7fa-468b-a64a-38046e65dcc2",
   "metadata": {},
   "outputs": [],
   "source": [
    "## Dictionary column {item code: {warhouse: pneing quanity and total quanity}}, this will be a column in the the result_df "
   ]
  },
  {
   "cell_type": "code",
   "execution_count": null,
   "id": "c7ec3691-c167-4064-a041-fcfcc6eeaf28",
   "metadata": {},
   "outputs": [],
   "source": [
    "result_df = pd.merge(result_df,so_df_grouped , on='item_code', how='outer')"
   ]
  },
  {
   "cell_type": "code",
   "execution_count": null,
   "id": "392e005e-69fa-4ed3-bbe0-0a88da000fee",
   "metadata": {},
   "outputs": [],
   "source": [
    "result_df = result_df.fillna({\n",
    "    'item_code': '', \n",
    "    'supplier_name': '',\n",
    "    'SO PENDING QTY':0,\n",
    "    'Mahape Quantity': 0,  # 0 for numeric columns\n",
    "    'QualityControl Quantity': 0,\n",
    "    'Stock Mahape + QC': 0,\n",
    "    'Pending Qty': 0,\n",
    "    'Dictionary':''    \n",
    "})\n",
    "# result_df['item_name'] = result_df['item_name'].apply(lambda x: x[:100] if isinstance(x, str) else x)\n",
    "# result_df['Total'] = result_df['Total'] + result_df['SO PENDING QTY']\n",
    "result_df"
   ]
  },
  {
   "cell_type": "code",
   "execution_count": null,
   "id": "b223be87-2120-40e5-a87a-9e336f34f5ac",
   "metadata": {},
   "outputs": [],
   "source": [
    "result_df = result_df[result_df['item_code'].notna() & (result_df['item_code'] != '')]\n",
    "result_df"
   ]
  },
  {
   "cell_type": "code",
   "execution_count": null,
   "id": "597a86d6-b252-4aeb-9fa2-3738471d7c65",
   "metadata": {},
   "outputs": [],
   "source": [
    "#Api Get Method - Stock Ledger Entry - Mahape\n",
    "import requests\n",
    "import pandas as pd\n",
    "import time \n",
    "start_time = time.time()\n",
    "\n",
    "base_url = 'https://erpv14.electrolabgroup.com/'\n",
    "endpoint = 'api/resource/Stock Ledger Entry'\n",
    "url = base_url + endpoint\n",
    "\n",
    "params = {\n",
    "    'fields': '[\"item_code\",\"qty_after_transaction\",\"posting_datetime\"]',\n",
    "    'limit_start': 0, \n",
    "    'limit_page_length': 1000000000000000,\n",
    "    'filters': '[[\"warehouse\", \"=\", \"In-house - EIPL\"]]'\n",
    "}\n",
    "\n",
    "headers = {\n",
    "    'Authorization': 'token 3ee8d03949516d0:6baa361266cf807'\n",
    "}\n",
    "response = requests.get(url, params=params, headers=headers)\n",
    "\n",
    "if response.status_code == 200:\n",
    "    data = response.json()\n",
    "    print(\"Fields are correct.\")\n",
    "    in_house = pd.DataFrame(data['data'])\n",
    "else:\n",
    "    print(f\"Failed to fetch data. Status code: {response.status_code}\")\n",
    "    print(\"Response:\", response.json())\n"
   ]
  },
  {
   "cell_type": "code",
   "execution_count": null,
   "id": "02b1c3df-c732-46e3-b618-d828aec58e6c",
   "metadata": {},
   "outputs": [],
   "source": [
    "in_house_sorted = in_house.sort_values(by='posting_datetime', ascending = False)\n",
    "\n",
    "in_house_unique = in_house_sorted.drop_duplicates(subset='item_code', keep='first')\n",
    "in_house_unique.head()"
   ]
  },
  {
   "cell_type": "code",
   "execution_count": null,
   "id": "3968b1d7-40cd-475a-a340-cc9dbd91b860",
   "metadata": {},
   "outputs": [],
   "source": [
    "in_house_unique = in_house_unique[['item_code','qty_after_transaction']]\n",
    "in_house_unique = in_house_unique[in_house_unique['qty_after_transaction'] != 0]\n",
    "in_house_unique.head()"
   ]
  },
  {
   "cell_type": "code",
   "execution_count": null,
   "id": "99b9d168-fb97-4520-9077-1ece3c5a15a1",
   "metadata": {},
   "outputs": [],
   "source": [
    "in_house_unique.shape"
   ]
  },
  {
   "cell_type": "code",
   "execution_count": null,
   "id": "ec734092-79ae-465b-8060-8a87c5f24407",
   "metadata": {
    "scrolled": true
   },
   "outputs": [],
   "source": [
    "result_df = pd.merge(result_df, in_house_unique, on = 'item_code', how = 'left')\n",
    "result_df.head()"
   ]
  },
  {
   "cell_type": "code",
   "execution_count": null,
   "id": "a6241d88-5930-4190-8127-ac29c46ac980",
   "metadata": {},
   "outputs": [],
   "source": []
  },
  {
   "cell_type": "code",
   "execution_count": null,
   "id": "67df2fec-beb4-4ba1-9341-ce835a3adbd1",
   "metadata": {},
   "outputs": [],
   "source": [
    "result_df['qty_after_transaction'] = result_df['qty_after_transaction'].fillna(0)\n",
    "result_df.rename(columns={'qty_after_transaction': 'In House Quantity'}, inplace=True)\n",
    "result_df['Stock Mahape + QC'] = result_df['Stock Mahape + QC'] + result_df['In House Quantity']\n",
    "result_df['Total'] = result_df['Stock Mahape + QC'] + result_df['Pending Qty']"
   ]
  },
  {
   "cell_type": "code",
   "execution_count": null,
   "id": "29a58e15-53f6-4329-9b4a-9d4373572c46",
   "metadata": {},
   "outputs": [],
   "source": [
    "# filtered_df = result_df[result_df['In House Quantity'] != 0]\n",
    "# filtered_df"
   ]
  },
  {
   "cell_type": "code",
   "execution_count": null,
   "id": "ef3f0aeb-7231-4aeb-94ba-2384848ea665",
   "metadata": {},
   "outputs": [],
   "source": [
    "result_df"
   ]
  },
  {
   "cell_type": "code",
   "execution_count": null,
   "id": "43da41d2-4a0f-4900-b7ee-49a618496404",
   "metadata": {},
   "outputs": [],
   "source": []
  },
  {
   "cell_type": "code",
   "execution_count": null,
   "id": "869eb27a-6ae2-4008-a391-dd27d451645b",
   "metadata": {},
   "outputs": [],
   "source": [
    "import psycopg2\n",
    "from psycopg2 import sql, Error\n",
    "import json\n",
    "\n",
    "def create_table_if_not_exists(cursor):\n",
    "    create_table_query = \"\"\"\n",
    "    CREATE TABLE IF NOT EXISTS result_df (\n",
    "        item_code VARCHAR(255),\n",
    "        so_pending_qty FLOAT,\n",
    "        mahape_quantity FLOAT,\n",
    "        qualitycontrol_quantity FLOAT,\n",
    "        stock_mahape_qc FLOAT,\n",
    "        pending_qty FLOAT,\n",
    "        total FLOAT,\n",
    "        inhouse_quantity FLOAT,\n",
    "        dictionary JSON\n",
    "    );\n",
    "    \"\"\"\n",
    "    cursor.execute(create_table_query)\n",
    "\n",
    "# Function to insert data\n",
    "def insert_data(cursor, result_df):\n",
    "    insert_query = \"\"\"INSERT INTO result_df (Dictionary, item_code, so_pending_qty, mahape_quantity,\n",
    "                            qualitycontrol_quantity, stock_mahape_qc, pending_qty,inhouse_quantity, total)\n",
    "                      VALUES (%s, %s, %s, %s,%s, %s, %s, %s, %s)\"\"\"\n",
    "    \n",
    "    for index, row in result_df.iterrows():\n",
    "        supplier_dict = row['Dictionary']\n",
    "\n",
    "        if not isinstance(supplier_dict, dict):\n",
    "            supplier_dict = None\n",
    "\n",
    "        supplier_dict_json = json.dumps(supplier_dict)\n",
    "\n",
    "        cursor.execute(insert_query, (\n",
    "            supplier_dict_json,\n",
    "            row['item_code'], \n",
    "            row['SO PENDING QTY'],\n",
    "            row['Mahape Quantity'], \n",
    "            row['QualityControl Quantity'], \n",
    "            row['Stock Mahape + QC'],\n",
    "            row['Pending Qty'],\n",
    "            row['In House Quantity'],\n",
    "            row['Total']\n",
    "        ))\n",
    "\n",
    "try:\n",
    "    connection = psycopg2.connect(\n",
    "        host='192.168.2.11',\n",
    "        port=5432,\n",
    "        database='postgres',\n",
    "        user='postgres', \n",
    "        password='admin@123'\n",
    "    )\n",
    "    \n",
    "    if connection:\n",
    "        print(\"Connected to PostgreSQL\")\n",
    "\n",
    "        cursor = connection.cursor()\n",
    "\n",
    "        create_table_if_not_exists(cursor)\n",
    "\n",
    "        cursor.execute(\"TRUNCATE TABLE result_df\")\n",
    "        print(\"Table emptied\")\n",
    "        \n",
    "        insert_data(cursor, result_df)\n",
    "\n",
    "        connection.commit()\n",
    "        print(\"Data inserted into PostgreSQL table\")\n",
    "\n",
    "except Error as e:\n",
    "    print(f\"Error: {e}\")\n",
    "finally:\n",
    "    if connection:\n",
    "        cursor.close()\n",
    "        connection.close()\n",
    "        print('Connection closed.')"
   ]
  },
  {
   "cell_type": "code",
   "execution_count": null,
   "id": "44b36750-701f-4127-82c7-86a8dc3aab68",
   "metadata": {},
   "outputs": [],
   "source": [
    "result_df.to_excel('test.xlsx')"
   ]
  }
 ],
 "metadata": {
  "kernelspec": {
   "display_name": "Python 3 (ipykernel)",
   "language": "python",
   "name": "python3"
  },
  "language_info": {
   "codemirror_mode": {
    "name": "ipython",
    "version": 3
   },
   "file_extension": ".py",
   "mimetype": "text/x-python",
   "name": "python",
   "nbconvert_exporter": "python",
   "pygments_lexer": "ipython3",
   "version": "3.12.4"
  }
 },
 "nbformat": 4,
 "nbformat_minor": 5
}
